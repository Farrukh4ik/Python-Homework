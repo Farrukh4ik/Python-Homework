{
 "cells": [
  {
   "cell_type": "code",
   "execution_count": null,
   "metadata": {},
   "outputs": [],
   "source": [
    "#Last Element: Access the last element of a list, considering what to return if the list is empty. List7\n",
    "\n",
    "list1 = [23, 453, 2345, 434]\n",
    "list2 = []\n",
    "\n",
    "if len(list1) > 0:\n",
    "    print(list1[3])\n",
    "    "
   ]
  },
  {
   "cell_type": "code",
   "execution_count": null,
   "metadata": {
    "vscode": {
     "languageId": "plaintext"
    }
   },
   "outputs": [],
   "source": [
    "#First Element: Access the first element of a list, considering what to return if the list is empty. List6\n",
    "\n",
    "list1 = [23, 453, 2345, 434]\n",
    "list2 = []\n",
    "\n",
    "if len(list1) > 0:\n",
    "    print(list1[0])"
   ]
  },
  {
   "cell_type": "code",
   "execution_count": null,
   "metadata": {
    "vscode": {
     "languageId": "plaintext"
    }
   },
   "outputs": [],
   "source": [
    "#Check Element: Given a list and an element, check if the element is present in the list. List5\n",
    "\n",
    "given_list = [321, 45353, 4367365, 2342111, 23424, 23425, 123]\n",
    "\n",
    "contain = 123 in given_list\n",
    "\n",
    "print(contain)"
   ]
  },
  {
   "cell_type": "code",
   "execution_count": null,
   "metadata": {
    "vscode": {
     "languageId": "plaintext"
    }
   },
   "outputs": [],
   "source": [
    "#Min Element: From a given list, determine the smallest element. List4\n",
    "\n",
    "given_list = [321, 45353, 4367365, 2342111, 23424, 23425, 123]\n",
    "\n",
    "print(min(given_list))"
   ]
  },
  {
   "cell_type": "code",
   "execution_count": null,
   "metadata": {
    "vscode": {
     "languageId": "plaintext"
    }
   },
   "outputs": [],
   "source": [
    "#Max Element: From a given list, determine the largest element. List3\n",
    "\n",
    "given_list = [321, 45353, 4367365, 2342111, 23424, 23425, 123]\n",
    "\n",
    "print(max(given_list))"
   ]
  },
  {
   "cell_type": "code",
   "execution_count": null,
   "metadata": {
    "vscode": {
     "languageId": "plaintext"
    }
   },
   "outputs": [],
   "source": [
    "#Sum of Elements: Given a list of numbers, calculate the total of all the elements. List2\n",
    "\n",
    "list_of_numbers = [1, 2, 34, 65, 867, 9]\n",
    "\n",
    "print(sum(list_of_numbers))"
   ]
  },
  {
   "cell_type": "code",
   "execution_count": null,
   "metadata": {
    "vscode": {
     "languageId": "plaintext"
    }
   },
   "outputs": [],
   "source": [
    "#Count Occurrences: Given a list and an element, find how many times the element appears in the list. List1\n",
    "\n",
    "\n",
    "list = ['pen', 'pencil', 'paper', 'rock', 'water', 'powder']\n",
    "\n",
    "element = 'pen'\n",
    "\n",
    "print(list.count('pen'))"
   ]
  }
 ],
 "metadata": {
  "language_info": {
   "name": "python"
  }
 },
 "nbformat": 4,
 "nbformat_minor": 2
}
