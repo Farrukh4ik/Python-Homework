{
 "cells": [
  {
   "cell_type": "code",
   "execution_count": null,
   "metadata": {},
   "outputs": [],
   "source": [
    "#string_14\n",
    "\n",
    "sentance = \"World Bank Group\" \n",
    "\n",
    "ancronym = \"\". join(item[0].lower() for item in sentance.split())\n",
    "print(ancronym)"
   ]
  },
  {
   "cell_type": "code",
   "execution_count": null,
   "metadata": {},
   "outputs": [],
   "source": [
    "#string_13\n",
    "\n",
    "sentance = input(\"Today is my first official day at work\")\n",
    "\n",
    "new_sentance = sentance.replace(\" \", \"\")\n",
    "\n",
    "print(new_sentance)"
   ]
  },
  {
   "cell_type": "code",
   "execution_count": null,
   "metadata": {},
   "outputs": [],
   "source": [
    "#string_12\n",
    "\n",
    "words = ['today', 'work', 'went', 'I']\n",
    "\n",
    "separator = ','\n",
    "\n",
    "print(separator.join(words))"
   ]
  },
  {
   "cell_type": "code",
   "execution_count": null,
   "metadata": {},
   "outputs": [],
   "source": [
    "#string_11\n",
    "\n",
    "string = input(\"Please write a sentance:\")\n",
    "\n",
    "digit = any(char.isdigit() for char in string)\n",
    "\n",
    "print(digit)"
   ]
  },
  {
   "cell_type": "code",
   "execution_count": null,
   "metadata": {},
   "outputs": [],
   "source": [
    "#String_10\n",
    "\n",
    "sentence = input(\"write a sentence: \")\n",
    "\n",
    "count = len(sentence.split())\n",
    "\n",
    "print(f\"This sentence has {count} words. \")"
   ]
  },
  {
   "cell_type": "code",
   "execution_count": null,
   "metadata": {},
   "outputs": [],
   "source": [
    "#String_9\n",
    "\n",
    "word = input('Write a word:')\n",
    "\n",
    "\n",
    "print(word[::-1])"
   ]
  },
  {
   "cell_type": "code",
   "execution_count": null,
   "metadata": {},
   "outputs": [],
   "source": [
    "#String_7\n",
    "\n",
    "sentence = (\"I am studying Python\")\n",
    "\n",
    "old_word = \"studying\"\n",
    "new_word = \"learning\"\n",
    "\n",
    "updated_sentence = sentence.replace(old_word, new_word) \n",
    "\n",
    "print(updated_sentence)\n",
    "\n"
   ]
  },
  {
   "cell_type": "code",
   "execution_count": null,
   "metadata": {},
   "outputs": [],
   "source": [
    "#String_5\n",
    "\n",
    "word = \"Lamorgini\"\n",
    "\n",
    "word_reverse = word[::-1]\n",
    "\n",
    "print(word == word_reverse)"
   ]
  },
  {
   "cell_type": "code",
   "execution_count": null,
   "metadata": {},
   "outputs": [],
   "source": [
    "#String_3\n",
    "\n",
    "word = input(\"Write a word:\")\n",
    "\n",
    "\n",
    "print(word[0])\n",
    "\n",
    "print(word[6])"
   ]
  },
  {
   "cell_type": "code",
   "execution_count": null,
   "metadata": {},
   "outputs": [],
   "source": [
    "#String_2.1\n",
    "\n",
    "message = str(input(\"Hello, how are you?\"))\n",
    "\n",
    "\n",
    "print(message)\n",
    "\n",
    "#String_2.2\n",
    "\n",
    "message = \"Hello World\"\n",
    "\n",
    "print(message.lower())\n",
    "\n",
    "print(message.upper())\n",
    "\n",
    "#String_2.3\n",
    "\n",
    "text = str(input(\"Write any sentence:\"))\n",
    "\n",
    "print(len(text))"
   ]
  },
  {
   "cell_type": "code",
   "execution_count": null,
   "metadata": {},
   "outputs": [],
   "source": [
    "#String_1\n",
    "\n",
    "birth_year = int(input(\"What's your birth year?\"))\n",
    "\n",
    "current_year = 2025\n",
    "\n",
    "age =  current_year - birth_year\n",
    "\n",
    "print(f\"You are {age} years old\")"
   ]
  },
  {
   "cell_type": "code",
   "execution_count": null,
   "metadata": {},
   "outputs": [],
   "source": [
    "#Number_6\n",
    "\n",
    "num = int(input(\"What is the number? \"))\n",
    "\n",
    "last_digit = abs(num) % 10\n",
    "\n",
    "print(last_digit)"
   ]
  },
  {
   "cell_type": "code",
   "execution_count": null,
   "metadata": {},
   "outputs": [],
   "source": [
    "#Number_5\n",
    "\n",
    "celcius = 43\n",
    "\n",
    "F = ((celcius * 9/5)) + 32\n",
    "\n",
    "print(f\"{celcius} is {F} fahrenheit \")\n",
    "\n"
   ]
  },
  {
   "cell_type": "code",
   "execution_count": null,
   "metadata": {},
   "outputs": [],
   "source": [
    "#Number_3\n",
    "\n",
    "km = 3\n",
    "\n",
    "\n",
    "meters = km * 1000\n",
    "centimeters = km * 100000\n",
    "\n",
    "print(f\"{km} kilometers is {meters} meters and {centimeters} centimeters. \")\n",
    "\n"
   ]
  },
  {
   "cell_type": "code",
   "execution_count": null,
   "metadata": {},
   "outputs": [],
   "source": [
    "#Number_2\n",
    "\n",
    "num1 = input(\"What is the first number?\")\n",
    "num2 = input(\"What is the second number?\")\n",
    "num3 = input(\"what is the third number?\")\n",
    "\n",
    "smallest = min(num1, num2, num3)\n",
    "largest = max(num1, num2, num3)\n",
    "\n",
    "print(largest, smallest)"
   ]
  },
  {
   "cell_type": "code",
   "execution_count": null,
   "metadata": {},
   "outputs": [],
   "source": [
    "#Number_1\n",
    "\n",
    "num = float(input(\"What is the number? \"))\n",
    "\n",
    "round_num = round(num, 2)\n",
    "\n",
    "print (num, round_num)\n",
    "\n"
   ]
  }
 ],
 "metadata": {
  "kernelspec": {
   "display_name": "Python 3",
   "language": "python",
   "name": "python3"
  },
  "language_info": {
   "codemirror_mode": {
    "name": "ipython",
    "version": 3
   },
   "file_extension": ".py",
   "mimetype": "text/x-python",
   "name": "python",
   "nbconvert_exporter": "python",
   "pygments_lexer": "ipython3",
   "version": "3.10.10"
  }
 },
 "nbformat": 4,
 "nbformat_minor": 2
}
